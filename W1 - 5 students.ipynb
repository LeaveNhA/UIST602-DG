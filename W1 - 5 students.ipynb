{
 "cells": [
  {
   "cell_type": "code",
   "execution_count": 1,
   "id": "78866111",
   "metadata": {},
   "outputs": [
    {
     "name": "stdout",
     "output_type": "stream",
     "text": [
      "<function <where>.bind.<lambda> at 0x109809c80>"
     ]
    }
   ],
   "source": [
    "# Önce yardımcı fonksiyonlar:\n",
    "# Özel bir durum yok, sadece gösterişli çıktılar için...\n",
    "inform = bind print 'Information: ' sep: '\\n' end: '.\\n\\n'"
   ]
  },
  {
   "cell_type": "code",
   "execution_count": 2,
   "id": "106355ea",
   "metadata": {},
   "outputs": [
    {
     "name": "stdout",
     "output_type": "stream",
     "text": [
      "[[60], [65], [72.3], [75], [80]]"
     ]
    }
   ],
   "source": [
    "# Tanımlar:\n",
    "saatler = [[1.6], [1.65], [1.7], [1.73], [1.8]]\n",
    "notlar = [[60], [65], [72.3], [75], [80]]"
   ]
  },
  {
   "cell_type": "code",
   "execution_count": 3,
   "id": "eb125887",
   "metadata": {},
   "outputs": [
    {
     "name": "stdout",
     "output_type": "stream",
     "text": [
      "Information: \n",
      "Saatler:\n",
      "[[1.6], [1.65], [1.7], [1.73], [1.8]].\n",
      "\n",
      "Information: \n",
      "Notlar:\n",
      "[[60], [65], [72.3], [75], [80]].\n",
      "\n",
      "Information: \n",
      "Bu ödev, bu kadar..\n",
      "\n",
      "\n"
     ]
    }
   ],
   "source": [
    "# Çıktılar:\n",
    "inform \"Saatler:\" saatler\n",
    "inform \"Notlar:\" notlar\n",
    "\n",
    "inform \"Bu ödev, bu kadar.\""
   ]
  }
 ],
 "metadata": {
  "kernelspec": {
   "display_name": "Idg",
   "language": "dg",
   "name": "idg"
  },
  "language_info": {
   "file_extension": ".dg",
   "mimetype": "text/plain",
   "name": "Dg"
  }
 },
 "nbformat": 4,
 "nbformat_minor": 5
}
