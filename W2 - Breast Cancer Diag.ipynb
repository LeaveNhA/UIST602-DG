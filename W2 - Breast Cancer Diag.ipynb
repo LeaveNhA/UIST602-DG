{
 "cells": [
  {
   "cell_type": "code",
   "execution_count": 1,
   "id": "3293e0d6",
   "metadata": {},
   "outputs": [
    {
     "name": "stdout",
     "output_type": "stream",
     "text": [
      "<function load_breast_cancer at 0x10b51eae8>"
     ]
    }
   ],
   "source": [
    "# plt, grafikleme için içeri alınıyor:\n",
    "plt = import '/matplotlib/pyplot'\n",
    "\n",
    "# Göğüs Kanseri veriseti, SK'nin içinde, erişeç ile veriyi alabiliyoruz.\n",
    "loadBreastCancer = import '/sklearn/datasets/load_breast_cancer'"
   ]
  },
  {
   "cell_type": "code",
   "execution_count": 2,
   "id": "1bf8958a",
   "metadata": {},
   "outputs": [
    {
     "name": "stdout",
     "output_type": "stream",
     "text": [
      "(array([[1.799e+01, 1.038e+01, 1.228e+02, ..., 2.654e-01, 4.601e-01,\n",
      "        1.189e-01],\n",
      "       [2.057e+01, 1.777e+01, 1.329e+02, ..., 1.860e-01, 2.750e-01,\n",
      "        8.902e-02],\n",
      "       [1.969e+01, 2.125e+01, 1.300e+02, ..., 2.430e-01, 3.613e-01,\n",
      "        8.758e-02],\n",
      "       ...,\n",
      "       [1.660e+01, 2.808e+01, 1.083e+02, ..., 1.418e-01, 2.218e-01,\n",
      "        7.820e-02],\n",
      "       [2.060e+01, 2.933e+01, 1.401e+02, ..., 2.650e-01, 4.087e-01,\n",
      "        1.240e-01],\n",
      "       [7.760e+00, 2.454e+01, 4.792e+01, ..., 0.000e+00, 2.871e-01,\n",
      "        7.039e-02]]), array([0, 0, 0, 0, 0, 0, 0, 0, 0, 0, 0, 0, 0, 0, 0, 0, 0, 0, 0, 1, 1, 1,\n",
      "       0, 0, 0, 0, 0, 0, 0, 0, 0, 0, 0, 0, 0, 0, 0, 1, 0, 0, 0, 0, 0, 0,\n",
      "       0, 0, 1, 0, 1, 1, 1, 1, 1, 0, 0, 1, 0, 0, 1, 1, 1, 1, 0, 1, 0, 0,\n",
      "       1, 1, 1, 1, 0, 1, 0, 0, 1, 0, 1, 0, 0, 1, 1, 1, 0, 0, 1, 0, 0, 0,\n",
      "       1, 1, 1, 0, 1, 1, 0, 0, 1, 1, 1, 0, 0, 1, 1, 1, 1, 0, 1, 1, 0, 1,\n",
      "       1, 1, 1, 1, 1, 1, 1, 0, 0, 0, 1, 0, 0, 1, 1, 1, 0, 0, 1, 0, 1, 0,\n",
      "       0, 1, 0, 0, 1, 1, 0, 1, 1, 0, 1, 1, 1, 1, 0, 1, 1, 1, 1, 1, 1, 1,\n",
      "       1, 1, 0, 1, 1, 1, 1, 0, 0, 1, 0, 1, 1, 0, 0, 1, 1, 0, 0, 1, 1, 1,\n",
      "       1, 0, 1, 1, 0, 0, 0, 1, 0, 1, 0, 1, 1, 1, 0, 1, 1, 0, 0, 1, 0, 0,\n",
      "       0, 0, 1, 0, 0, 0, 1, 0, 1, 0, 1, 1, 0, 1, 0, 0, 0, 0, 1, 1, 0, 0,\n",
      "       1, 1, 1, 0, 1, 1, 1, 1, 1, 0, 0, 1, 1, 0, 1, 1, 0, 0, 1, 0, 1, 1,\n",
      "       1, 1, 0, 1, 1, 1, 1, 1, 0, 1, 0, 0, 0, 0, 0, 0, 0, 0, 0, 0, 0, 0,\n",
      "       0, 0, 1, 1, 1, 1, 1, 1, 0, 1, 0, 1, 1, 0, 1, 1, 0, 1, 0, 0, 1, 1,\n",
      "       1, 1, 1, 1, 1, 1, 1, 1, 1, 1, 1, 0, 1, 1, 0, 1, 0, 1, 1, 1, 1, 1,\n",
      "       1, 1, 1, 1, 1, 1, 1, 1, 1, 0, 1, 1, 1, 0, 1, 0, 1, 1, 1, 1, 0, 0,\n",
      "       0, 1, 1, 1, 1, 0, 1, 0, 1, 0, 1, 1, 1, 0, 1, 1, 1, 1, 1, 1, 1, 0,\n",
      "       0, 0, 1, 1, 1, 1, 1, 1, 1, 1, 1, 1, 1, 0, 0, 1, 0, 0, 0, 1, 0, 0,\n",
      "       1, 1, 1, 1, 1, 0, 1, 1, 1, 1, 1, 0, 1, 1, 1, 0, 1, 1, 0, 0, 1, 1,\n",
      "       1, 1, 1, 1, 0, 1, 1, 1, 1, 1, 1, 1, 0, 1, 1, 1, 1, 1, 0, 1, 1, 0,\n",
      "       1, 1, 1, 1, 1, 1, 1, 1, 1, 1, 1, 1, 0, 1, 0, 0, 1, 0, 1, 1, 1, 1,\n",
      "       1, 0, 1, 1, 0, 1, 0, 1, 1, 0, 1, 0, 1, 1, 1, 1, 1, 1, 1, 1, 0, 0,\n",
      "       1, 1, 1, 1, 1, 1, 0, 1, 1, 1, 1, 1, 1, 1, 1, 1, 1, 0, 1, 1, 1, 1,\n",
      "       1, 1, 1, 0, 1, 0, 1, 1, 0, 1, 1, 1, 1, 1, 0, 0, 1, 0, 1, 0, 1, 1,\n",
      "       1, 1, 1, 0, 1, 1, 0, 1, 0, 1, 0, 0, 1, 1, 1, 0, 1, 1, 1, 1, 1, 1,\n",
      "       1, 1, 1, 1, 1, 0, 1, 0, 0, 1, 1, 1, 1, 1, 1, 1, 1, 1, 1, 1, 1, 1,\n",
      "       1, 1, 1, 1, 1, 1, 1, 1, 1, 1, 1, 1, 0, 0, 0, 0, 0, 0, 1]))"
     ]
    }
   ],
   "source": [
    "#CHN {Örnek basitliği için, veriyi çift (tuple) formatında aldık.\n",
    "#     Bunu da `return_X_y` bayrağını aktif ederek yapıyoruz.}\n",
    "cancerData = loadBreastCancer return_X_y: True"
   ]
  },
  {
   "cell_type": "code",
   "execution_count": 3,
   "id": "d5fad00e",
   "metadata": {},
   "outputs": [
    {
     "name": "stdout",
     "output_type": "stream",
     "text": [
      "False"
     ]
    }
   ],
   "source": [
    "#NEW {Lütfen, grafikleri gözlemlemek için aşağıdaki bayrağı aktif edin.}\n",
    "showGraphics = False\n",
    "\n",
    "# Veriyi [:kitle-etiketi (iyi/kötü huylu, ikilik),\n",
    "#         [:ortalama yarıçap (mean-radius),\n",
    "#          :ortalama doku (mean-texture)]]\n",
    "# yapıya şekillendiriyoruz. Artık biliyoruz ki, etikete göre\n",
    "# filtre, grup, sınıflama yapabilir, veriyi yönetebiliriz.\n",
    "targetLocationData = map tuple' (cancerData !! 1) (map (xs -> (take 2 xs |> list)) (cancerData !! 0)) |> list\n",
    "\n",
    "# Matplotlib temel ayarları:\n",
    "fig = plt.figure figsize: [10, 8]\n",
    "# ___________________???\n",
    "ax = fig.add_subplot 111\n",
    "# Meraklısına, ileri okuma:\n",
    "# https://matplotlib.org/3.5.0/api/figure_api.html#matplotlib.figure.Figure.add_subplot\n",
    "\n",
    "# Grafiksel veriyi kırmızı ve mavi ayrımıyla tasarladığımız için,\n",
    "# Kırmızı: Kötü Huylu (Malignant)\n",
    "redDots = targetLocationData |> filter (x -> (x |> head |> == 0)) |> list\n",
    "# Mavi: İyi Huylu (Benign)\n",
    "blueDots = targetLocationData |> filter (x -> (x |> head |> == 1)) |> list\n",
    "\n",
    "# _______________________________________ ..'den şeklinde okunabilir.\n",
    "# Yardımcı bir fonksiyon: Noktalar verisi -> x, y kordinat ikilisi veri listesi\n",
    "\n",
    "# ________________________________________________________________________________________________liste yap\n",
    "# __________________________________________________________________________Veriyi dikeyde eşle\n",
    "# __________________________________________________________________liste yap\n",
    "# __________________________________________________________noktalar\n",
    "# __________________________________X_'den, ikinci verisine\n",
    "# _____________________________Her birisi için\n",
    "# _________________________..'den\n",
    "# ____________________argüman\n",
    "getLocationFromDots = dots -> (map (x -> x |> tail |> head) dots |> list |> (xs -> (zip *:xs)) |> list)\n",
    "\n",
    "# _________*: veriler liste olarak saklanıyor, onları açmak için.\n",
    "# ____________verilerden x, y değerlerini hesapla.\n",
    "ax.scatter *:(getLocationFromDots redDots) c: 'r'\n",
    "# __________________________________________c: bildiğiniz renk parametresi.\n",
    "ax.scatter *:(getLocationFromDots blueDots) c: 'b'\n",
    "\n",
    "# Aşina olduğunuz gibi, x, y düzlemlerini\n",
    "# isimlendirmek için:\n",
    "ax.set_xlabel \"Mean Radius\"\n",
    "ax.set_ylabel \"Mean Texture\"\n",
    "\n",
    "# Tabi ki grafiğin gösterilmesi için.\n",
    "# Argümansız çağırımlarda `!` sembolü kullanılıyor.\n",
    "showGraphics and plt.show!"
   ]
  }
 ],
 "metadata": {
  "kernelspec": {
   "display_name": "Idg",
   "language": "dg",
   "name": "idg"
  },
  "language_info": {
   "codemirror_mode": {
    "name": "haskell"
   },
   "file_extension": ".dg",
   "mimetype": "text/dg",
   "name": "Dg",
   "pygments_lexer": "ipython3"
  }
 },
 "nbformat": 4,
 "nbformat_minor": 5
}
