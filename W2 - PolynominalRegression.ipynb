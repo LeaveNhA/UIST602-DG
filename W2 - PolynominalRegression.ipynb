{
 "cells": [
  {
   "cell_type": "code",
   "execution_count": 1,
   "id": "665ad8b3",
   "metadata": {},
   "outputs": [
    {
     "name": "stdout",
     "output_type": "stream",
     "text": [
      "<module 'numpy' from '/Users/sckn/.pyenv/versions/3.6.15/lib/python3.6/site-packages/numpy/__init__.py'>"
     ]
    }
   ],
   "source": [
    "except\n",
    "    err_ =>\n",
    "        PolynomialFeatures = import '/sklearn/preprocessing/PolynomialFeatures'\n",
    "        np = import '/numpy'\n",
    "    err_ :: ModuleNotFoundError =>\n",
    "            print 'Modül yüklü değil.'"
   ]
  },
  {
   "cell_type": "code",
   "execution_count": 2,
   "id": "22c34c57",
   "metadata": {},
   "outputs": [
    {
     "name": "stdout",
     "output_type": "stream",
     "text": [
      "PolynomialFeatures()"
     ]
    }
   ],
   "source": [
    "#RNM{degree->derece}\n",
    "derece = 2\n",
    "polinom_özellikleri = PolynomialFeatures degree: derece"
   ]
  },
  {
   "cell_type": "code",
   "execution_count": 3,
   "id": "adedb79a",
   "metadata": {},
   "outputs": [
    {
     "name": "stdout",
     "output_type": "stream",
     "text": [
      "[[ 1.  1.  1.]\n",
      " [ 1.  2.  4.]\n",
      " [ 1.  3.  9.]\n",
      " [ 1.  4. 16.]\n",
      " [ 1.  5. 25.]\n",
      " [ 1.  6. 36.]\n",
      " [ 1.  7. 49.]\n",
      " [ 1.  8. 64.]\n",
      " [ 1.  9. 81.]]"
     ]
    }
   ],
   "source": [
    "#NEW{x: 1..10, **(] => vektör vektörü}\n",
    "x = (range 1 10) |> (bind map list') |> list |> np.array\n",
    "x_polinom = polinom_özellikleri.fit_transform x"
   ]
  },
  {
   "cell_type": "code",
   "execution_count": 4,
   "id": "4c205134",
   "metadata": {},
   "outputs": [
    {
     "name": "stdout",
     "output_type": "stream",
     "text": [
      "['1', 'x', 'x^2']\n",
      "\n"
     ]
    }
   ],
   "source": [
    "#NEW{Ödevin Python versiyonunda sürüm farkından dolayı alınan hata, burada alınmıyor.\n",
    "#    get_feature_names geçerli sürüm ağı (diğer paketlerle oluşan versiyon koleksiyonu)\n",
    "#    için uygun ve kullanılıyor.}\n",
    "\n",
    "print $ polinom_özellikleri.get_feature_names 'x'"
   ]
  },
  {
   "cell_type": "code",
   "execution_count": 5,
   "id": "52a9dcf8",
   "metadata": {},
   "outputs": [
    {
     "name": "stdout",
     "output_type": "stream",
     "text": []
    }
   ],
   "source": [
    "#NEW{Örnekte bağımlılık ele alınmamış}\n",
    "#WRN{Seaborn önerilmeyen olarak işaretlenmiş bir bağımlılık barındırıyor.}\n",
    "\n",
    "except\n",
    "    err_ =>\n",
    "        LinearRegression = import '/sklearn.linear_model/LinearRegression'\n",
    "        plt = import '/matplotlib/pyplot'\n",
    "        ax = import '/matplotlib/axes'\n",
    "        sns = import '/seaborn'\n",
    "        sns.set!\n",
    "    err_ :: ModuleNotFoundError =>\n",
    "            print \"Modül(ler) yüklü değil!\""
   ]
  },
  {
   "cell_type": "code",
   "execution_count": 6,
   "id": "001c1d5f",
   "metadata": {},
   "outputs": [
    {
     "data": {
      "image/png": "iVBORw0KGgoAAAANSUhEUgAAAoAAAAHgCAYAAAA10dzkAAAAOXRFWHRTb2Z0d2FyZQBNYXRwbG90bGliIHZlcnNpb24zLjMuNCwgaHR0cHM6Ly9tYXRwbG90bGliLm9yZy8QVMy6AAAACXBIWXMAAA9hAAAPYQGoP6dpAABEdUlEQVR4nO3deXxU9b3/8fcs2UgyySTAJAQBBRFQwCCKKwgKAkItWrdirRZcQFurYm3tbbFVr733p6gXFXfpvYIFRFHLJiioWEVRoRVkFVEgCdkne2Y5vz8CaBSthEm%2BmXNez8eDR%2BAEDu8Pk5B3zvI9LsuyLAEAAMAx3KYDAAAAoG1RAAEAAByGAggAAOAwFEAAAACHoQACAAA4DAUQAADAYSiAAAAADkMBBAAAcBgKIAAAgMNQAAEAAByGAggAAOAwFEAAAACHoQACAAA4DAUQAADAYSiAAAAADkMBBAAAcBgKIAAAgMNQAAEAAByGAggAAOAwFEAAAACHoQACAAA4DAUQAADAYSiAAAAADkMBBAAAcBgKIAAAgMNQAAEAAByGAggAAOAwFEAAAACHoQACAAA4DAUQAADAYSiAAAAADkMBBAAAcBgKIAAAgMNQAAEAAByGAggAAOAwFEAAAACHoQACAAA4DAUQAADAYSiAAAAADkMBBAAAcBgKIAAAgMNQAAEAAByGAggAAOAwFEAAAACHoQACAAA4DAUQAADAYSiAAAAADkMBBAAAcBgKIAAAgMNQAAEAAByGAggAAOAwFEAAAACHoQACAAA4DAUQAADAYSiAAAAADkMBBAAAcBgKIAAAgMN4TQeId5ZlKRq1WmXfbrer1fbdHjBf/LP7jMwX/%2Bw%2BI/O1fL8ulyvm%2B40nFMAjFI1aKiurifl%2BvV63/P5UBYO1CoejMd%2B/acwX/%2Bw%2BI/PFP7vPyHwtl5WVKo/H2QWQU8AAAAAOQwEEAABwGAogAACAw1AAAQAAHIYCCAAA4DAUQAAAAIehAAIAADgMBRAAAMBhKIAAAAAO47gCGA6H9dBDD2n48OHKz8/XxIkTtX79etOxAAAA2ozjCuCsWbO0YMEC3XXXXVq0aJGOPvpoTZ48Wfv27TMdDQAAoE04rgCuXLlS48aN05lnnqnu3bvrt7/9raqqqjgKCMBRduyp1BvrvtSOPZWmo7QaJ8wItJTXdIC2lp2drVWrVumKK65Qbm6u5s2bp8TERPXp08d0NABoEwtWbdfStV8c/PWYId108fBeBhPFnhNmBI6E4wrg73//e910000655xz5PF45Ha7NXPmTHXr1q3F%2B/R6Y38g1eNxN3trN8wX/%2Bw%2Bo13n27GnslkxkqSla7/QKf0C6pmXYShVbDlhRsm%2BH6MH2H0%2B0xxXALdv36709HQ98sgjCgQCWrBggaZNm6bnnntOffv2Pez9ud0u%2Bf2prZC0ic%2BX0mr7bg%2BYL/7ZfUa7zRfcUXbo7fWRVv2/rC05Ycavs9vH6DfZfT5THFUACwoKdOutt2r27NkaPHiwJKl///7avn27Zs6cqUcfffSw9xmNWgoGa2MdVR6PWz5fioLBOkUi0Zjv3zTmi392n9Gu8/mSPd%2B5vby8po3TtA4nzCjZ92P0gNacz%2BdLcfyRRUcVwA0bNigUCql///7Ntg8cOFBvvfVWi/cbDrfeJ14kEm3V/ZvGfPHP7jPabb7ugXSNGdKt2SnSsad2U/dAum3mdMKMX2e3j9Fvsvt8pjiqAObk5EiStmzZogEDBhzcvnXrVvXo0cNQKgBoWxcP76VT%2BgUUrI/Il%2BxR90C66Ugx54QZgSPhqAI4YMAAnXTSSbr99ts1ffp05eTkaNGiRXr33Xf1/PPPm44HAG2mZ16G/P5UlZfX2PboihNmBFrKUQXQ7XZr1qxZevDBB/W73/1OlZWV6t27t2bPnq2BAweajgcAANAmHFUAJSkjI0PTp0/X9OnTTUcBAAAwwtm3wAAAADgQBRAAAMBhKIAAAAAOQwEEAABwGAogAACAw1AAAQAAHIYCCAAA4DAUQAAAAIehAAIAADgMBRAAAMBhHPcoOACAvVnRqEKlJaov2SdvIFuR1EwpKcV0LKBdoQACAOJSNBRSqKhQjQUFaizYq8aCvWooKFCoqFBWKCRJ%2BmL/7/WkpyshkKPEQI4Sc3IO/jyhc2e5ExLMDQEYQgEEALRrkbq6gwXvq7JXoFDxPsmyDvlnXF6vEgMBWXV1aiwrU6SqSpGqKtVv3/aN3%2BhSQnZHJQQCSszJVWIg0FQOc3Ll9fvlcnOlFOyJAggAMM6yLEWClc2O5jUWFKihYK8iFRXf%2BefcKSlKzO2y/0fuwZ8ndOyohESv/P5UlewtUd3eAjUWFSpUVKTGwgI1FhUpVFigaH29QiXFCpUUq3bjJ8327UpIUELngBJz9h8t3H/0MDGQI09aWiv/iwCtiwIIAGgzB67P%2B%2BbRvMaCvYrW1n7nn/NkZB4seElfK3qejAy5XK7v/Ts9KSlK7t5Dyd17NM9yoHQWFSlUWKjGooKvfl68T1YopMY9u9W4Z/e39ulOS2s6nXzwlHLTEcSmU8qJLfq3AdoSBRAAEHPfuj6v8MDbr67P%2BxaXSwkdOzU7ktf081x5OqTGPKPL5ZI3I1PejEyp93HN3mdFIgqVlDQdNSwsVGNR4f4jiIUKl5crWl2t%2Burtqt%2Bx/VszeLOyvnU6OTEQkDcrm1PKaDcogACAFmvp9XkJOblKys3d/3b/aducQLs5eubyeJQYCCgxEJAGDGz2vmh9vRr3FX3tdPJXp5ajdXUKl5YqXFr67VPKXu/%2Bm08CzU4nJwZy5ElPb8vxAAogAOD7tcb1efF8JMydnKzkbt2V3K17s%2B2WZSlSVdV05HP/dYYHjyDuK5IVDn/3KeXU1INlMOFrxTAhEJA7sX2UYtgLBRAAIMnM9Xl24nK55PX55PX5lHJs72bvsyIRhcpKm59O3v/zcFmZojU1qv9sh%2Bo/2/Gt/XqzspsXw5yAEgO58gQ6tdVosCEKIAA4UKSmRiWb/qmybZ%2Bpfs%2Bednd9nt24PB4lduqsxE6dldp/QLP3RRsaFNrXdLSwsXD/6eSiAjUWFipaW6twWanCZaXSpxub79PrVVqvnvKNOFcdBg6Sy%2BNpy5EQ5yiAAOAg4YoKla98TZWr31C0vv5b7//69XlfL3oJgfZzfZ7duJOSlHRUNyUd1a3ZdsuyFK2uVuMhjhqG9p9Srtq8RVWbtyihUyf5R54n3xlnyZ2UZGgSxBMKIAA4QGNRkcpfW6rgO2tkhcOSpJS8Lko6pqe8Aftcn2cnLpdLnvR0paSnK%2BXYY5u9z4pGZVWUquHjddr76mKFiou1b%2B5zKnllkTKHn6PMEefIm%2B4zlBzxgAIIADZW/8UulS9drKp1Hxy8Kze5Zy91Gj9eRw07XRWVdQqHo4ZT4nC53G4ldA4ocNklSj37XJW9%2BabKX1uuUEmxyl59WeXLl8p3xpnyjxytxM6dTcdFO0QBBACbsSxLdVu3qGzpYtV%2B8q%2BD21P7D5B/zPnq0Ps4eb1ujvTZhDspSZkjzlXGsOGq/uhDlS1booZdn6ty1RuqXL1KaSedrKzRY5Tc42jTUdGOUAABwCasaFQ1G9arbOnir%2B4mdbmUfsoQZY0e%2B61rzGAvLo9H6SeforTBJ6tuy2aVLVui2k/%2Bpep176t63ftK6dNXWaPHqMPx/R11dzYOjQIIAHHOCodV9f5alS1brMa9eyU13czhO3Oo/OeNVmInTgE6icvlUoc%2BfdWhT181fPmlyl5bqqr316pu86fas/lTJeZ1VdboMUo/eYhcXmqAU/HKA0CcijY0qPLtt1T%2B2rKmZULUtPhy5vBzlHnOSHkzMgwnhGlJRx2l3EnXquOEi1Sx4jVVvPWmGvfsVuHTT6rkxYXyjxyljKHD5E5OMR0VbYwCCABxJlJdrYpVr6vi9ZWKVFdJkjw%2Bn/wjz1PGsOHydOhgOCHam4SsbHW69HJljf%2BRKlevUvnrKxQuL1Px/L%2Bp9NWXlXH2CPnPGSlvZqbpqGgjFEAAiBOhsjJVrFiuirdWy2pokKSm9d9Gj5Xv9DNYpw//lqdDqrLGjlPmyPNU9d4/VLZ8qUKFhSpfulgVK5Yr/dTTlXXeaCXmdjEdFa2MAggA7VxjYYHKli1R8N1/SJGIpKZTe/4x5yv9pJN5AgQOmzshQRlnDZPvjLOabhxavlT127cpuOYtBde8pdQT85V13thvrT8I%2B6AAAkA7Vf/5TpUtXazqjz48uIZfSu/jlDX2fO7kREy43G6l5Q9SWv4g1W3fprLlS1Wz/uODP5J79lLW6DFKHZjPskE2QwEEgHbEsizVbf5UZUv%2BrtpPNx3cnnpivrJGj1VKL47IoHWk9DpWeb2OVWPBXpW9tkxV7/5D9Tu2a%2B8jM5WQkyP/qNHynXY6lxrYBAUQANoBKxpV9ccfqmzpEjV8vrNpo9ut9CGnKmv0%2BUrKyzMbEI6RmNtFOT//hTpecKEq3lipitVvKFRYqH3/O1uli15U5jkjlXn2CHlSU01HxRGgAAKAQVY4rOB7/1DZsiUKFRZKklyJicrYv4ZfQnZHwwnhVN7MTHW88CfKGnu%2BKt96S%2BUrlytcVqbSlxaqbMnflTH0bPnPHaWE7GzTUdECFEAAMCBaX6/Kt1arfMVyhcvLJUnuDh2UOWL/Gn7pPsMJgSbu5BT5R52nzBHnqOqD91W2bIka9%2BxuuiP9jZVKP/kUZZ03VklHHWU6Kg4DBRAA2lCkqkrlb6xUxesrFa2tkSR5MjPlH3meMoedzYK8aLdcXq98p52u9FNPU%2B3GT1S2bInqNn%2BqqvfeVdV776rD8Sc0Xafapy83KMUBRxXAtWvX6sorrzzk%2B7p27arXX3%2B9jRMBcIpQaanKX1umyrfflNXYKElKCASUdd5YpZ92utwJCYYTAj%2BMy%2BVS6gn9lXpCf9V//rnKly9R1boPVLvxE9Vu/ERJ3bora/RYpZ00mCWK2jFHFcD8/HytWbOm2bb169frl7/8paZOnWooFQA7a9i7R%2BXLlii49r2v1vDr1l1ZY8cpbdBJLK2BuJbco4dyr5uq7Av3qWLFclWueVsNX%2BxSwROzlNCxkzJHnaeMM86SOynJdFR8g8uy9i8u5UC1tbUaN26chgwZonvvvbdF%2B4hEoiorq4lxMsnrdcvvT1V5eY3C4WjM928a88U/u894pPPV7diusqWLVbP%2B44PbUvr0VdaY89Wh3/HGT5HZ/fWT7D/jrqIqBesj8iV71D2QbjqOpKZLHCpWv9HsMYXutLSm51OPOOewrm1tzfmyslLl8Tj7my9HHQH8pscee0x1dXW6/fbbTUcBYAOWZTVdG7V0seq2bG7a6HIpLX%2BQ/KPPV8oxx5gNCNtYsGq7lq794uCvxwzppouH9zKYqIknPV3Z4y%2BQf9RoBf/xjspfW6pQcbHKXn1Z5cuWyHfGWfKPGq3Ezp2/dz/tdT47cWwBLCsr0%2BzZs3Xrrbcq8wgffu31xv67iAPfmdj1OxTmi392n/Fw5rOiUQU/eF%2Bli/%2Bu%2Bi%2B%2BOLADZZ5%2BurLHjFVSl/a3hp/dXz/JvjPu2FPZrBxJ0tK1X%2BiUfgH1zMswlOobvCnqOPJcZZ8zQlXr1qlk6WLV79ypytVvqPLNVfINPlnZY8Ye8puiuJjPBhxbAOfOnav09HRdeumlR7Qft9slv7/1FsP0%2Bex9RyDzxT%2B7z/h980UbG7Vv1WrtefFl1e9fw8%2BdlKSc80aqy4/GK6lT%2B1/Dz%2B6vn2S/GYM7yg69vT7Sql%2BPWirrvOHqNupsBT/ZqD0vvazyDz9S8IP3FfzgfflOOF55Ey6Q/6RBBy%2BLiLf54pVjC%2BCiRYv04x//WMnJyUe0n2jUUjBYG6NUX/F43PL5UhQM1ikSsd%2B1K8wX/%2Bw%2B4/fNF6mrU/mqN1S2fJnClZVNvz81VVkjR8l/7rnypqWrVlJteeyvD44Vu79%2Bkn1n9CUf%2Bs5aX7JH5e34Y05dj1buL38t/5dfqnTZElW%2B956Cn2xU8JONSuraVdljxipjyKltMp/Pl2K7I8OHy5EFcPPmzfryyy81fvz4mOyvNS8ujkSitrx4%2BQDmi392n/Hr84WDQVWsfE0Vq15XtK5OkuT1Z8l/3mhlnDXs4J2O8fTvYffXT7LfjN0D6RozpFuz06RjT%2B2m7oH0uJjTm5unwNXXKOuCC1WxcoUq3lytht27tffJJ7TvhQXKPHeUzh/UTYs/Kjr4Z%2BJpvnjhyAK4bt06ZWdnq0%2BfPqajAIgDoeJilb22VME1b8sKhSRJiTm58o8ZK9%2BQ0%2BTyOvK/Uhh08fBeOqVfoN3dBXw4ErKy1emSy5Q1brwq31yt8pWvKVxerpIF8zQwJUUnnnyGagedJV%2BnrLicr71z5P9amzZt0nHHHWc6BoB2rubzXdrztxdUufY9Kdp05CH56GOUNfZ8pQ7MZw0/GNUzL8MWy9x4OqQqa8z5yjx3lKrWvqvyZUvVWFggvbVSye%2B%2BqdzbfiOJAhhrjiyAxcXFR3znLwD7ilRXq%2BC5v6pq3QcHt3U4/gRljTlfKcf1Mb6GH2BH7oQEZZw5VL7Tz1TNPzeo/LWlqtu2TdGGBtPRbMmRBfDJJ580HQFAO1X/xS7tfXSmwiUlkssl3%2BCTlTl6rJK79zAdDXAEl9uttBPzlTn4JGX6klURrI/rI5ztlSMLIAAcSuWat7Vvzv/KCoWU0Kmz%2Bt1xm0L%2BAF98AEN4lnDroQACcLxoqFHFz89V5VurJUmpAwaq63XXK61r5/a9rAYAtBAFEICjhUpLtHfWI2r4fKfkcin7ggnKGjtOnkT%2BewRgX/wPB8CxajZ%2BooInH1O0ulru1FTlXnO9Uk/obzoWALQ6CiAAx7GiUZUt%2BbtKX35Jsiwlde%2BhLlNuUELHTqajAUCboAACcJRIbY0Kn35SNRvWS5Iyhg5Tp8snyp2QaDYYALQhCiAAx2j48gvtffRhhYr3yeX1qvMVVyrjzKGmYwFAm6MAAnCE4LvvqOj//iqrsVHejh3VZcqNrO0HwLEogABsLRoKqXje86pc/YYkqcMJ/ZU7%2BTp50tIMJwMAcyiAAGwrVFamgsceVv1nn0kul7LG/UjZ4y/gGb4AHI8CCMCWaj/dpIInZilSVSV3h1TlTL5WaQMGmo4FAO0CBRCArViWpfJlS1Ty4gtNS7x0664uU25UQieWeAGAAyiAAGwjUlurwmefUs3HH0mSfGecpc4TfyZ3Iku8AMDXUQAB2ELDnt3a%2B%2BhMhYqK5PJ61emnVyjjrGFyuVymowFAu0MBBBD3gmvfVdFfn21a4iUrW12m3KDko48xHQsA2i0KIIC4ZYXDKp7/N1W8sVKS1KHf8cq95np50tMNJwOA9o0CCCAuhcrLVfDYI6rfsV2SlDVuvLJ/NIElXgDgB6AAAog7tZs/VcHjsxSpCsqdkqKcSdcq7cR807EAIG5QAAHEDcuyVP7aMpUsXCBFo0rsepS6TLlRiYGA6WgAEFcogADiQrS%2BToXPPq3qD9dJktJPO12BK34ud1KS4WQAEH8ogADavYa9e5qWeCkslDwedb5sojLOHs4SLwDQQhRAAO1a1Qfvq3D207IaGuT1Zyl3yg1KOaan6VgAENcogADaJSscVvEL81Wx8jVJUkqfvsq9doq8Pp/hZAAQ/yiAANqdcEWFCh5/VHXbtkqS/GPOV8cfXyiXx2M4GQDYAwUQQLtSu3WLCh5/VJHKyqYlXn4xWWn5J5mOBQC2QgEE0C5YlqWKla%2BpeMG8piVe8ro2LfGSk2M6GgDYDgUQgHHR%2BnoV/fUZVX3wviQpfcipClx5NUu8AEAroQACMKqxYK/2PvqwGgv2Sh6POl1ymTJHnMsSLwDQiiiAAIyp%2BvADFT7ztKyGenkyM9Xl%2BhuU0utY07EAwPYogADanBWJqOTFBSpfvkySlNL7OOVeN1XejAzDyQDAGSiAANpUuLJSBU/MUt2WzZIk/3mj1fHCi1niBQDaEAUQQJup275Nex97RJGKCrmSkpVz9SSlDz7ZdCwAcBwKIIBWZ1mWKt5YqeL5f5MiESXmdlGXqTcqMbeL6WgA4EgUQACtKtrQoKL/fVZVa9%2BTJKUNPkU5V/1C7uRkw8kAwLkogABaTWNhofbOeliNe3ZLbrc6XXypMs8dxRIvAGAYBRBAq6j%2B%2BEMVPvOUonV18mRkKPe6qerQ%2BzjTsQAAktymA5iwaNEijR07Vv3799f555%2BvpUuXmo4E2IYViaj4hfna%2B8hMRevqlHJsb3X/w58ofwDQjjjuCODLL7%2Bs3//%2B97rjjjt01llnafHixbrllluUk5Oj/Px80/GAuBYOBpuWeNn8qSQpc%2BR56nTRxXJ5HfdfDQC0a476X9myLD300EO68sorNXHiREnSlClTtG7dOr3//vsUQOAw7NhTqeCOMvmSPeoeSFfdZztUMOsRhcvL5EpKUs5Vk5R%2B8immY7bYN%2BcDADtxVAHcuXOn9uzZo/Hjxzfb/vTTTxtKBMSnBau2a%2BnaL5p%2BYVm6IqtEXT96TYpElJCToy5Tf6mkLnlmQx6BZvNJGjOkmy4e3stgIgCILccVQEmqra3VpEmTtGnTJnXt2lVTpkzRiBEjWrxfrzf2l1J6PO5mb%2B2G%2BeLXjj2VB8uRNxrW6OL31HXHZ5Kk9MEnq8ukyfKkpJiMeES%2BPt8BS9d%2BoVP6BdQzzz6PqrPzx%2BgBdp%2BR%2BXAkHFUAq6urJUm33367brzxRk2bNk3Lly/X1KlT9eyzz%2Bq000477H263S75/amxjnqQzxe/X0h/COaLP8EdZZKkzFCVLixYrc6N5YrKpei549X/xivjfomXA/N9a3t9pFU/102x48foN9l9RuZDSziqACYkJEiSJk2apAkTJkiS%2Bvbtq02bNrW4AEajloLB2pjmlJq%2B4/H5UhQM1ikSicZ8/6YxX/zyJXuUV7dPFxe8ruRoSDWeZL0cGKqrh49URUXsPxfami/50M8k9iV7VF5e08ZpWo%2BdP0YPsPuMzNdyPl%2BK448sOqoABgIBSVLv3r2bbe/Vq5dWr17d4v2Gw633iReJRFt1/6YxX/zJCVXo8uLV8kZD2p3cSYtyhmnomX3UPZBui1m7B9I1Zki3ZqeBx57azTbzfZMdP0a/ye4zMh9awlEF8Pjjj1dqaqo2bNigwYMHH9y%2BdetWdevWzWAyID6Eiou1%2B4H75W2sl6v7Mep0%2BfW6NT3FdnfJXjy8l07pF1CwPsJdwABsyVEFMDk5WZMnT9YjjzyiQCCgAQMGaPHixXrnnXc0e/Zs0/GAdi1cWandM/6fIpUVSszrqqN/c5s6du2s8vIaW3533jMvQ35/qm3nA%2BBsjiqAkjR16lSlpKTogQceUFFRkXr27KmZM2dqyJAhpqMB7VaktlZ7HrxfoeJ98nbsqK433ypPqv1uiAAAp3BcAZSkq6%2B%2BWldffbXpGEBciIYatffhh9Tw5RfypPvU9ebb5M30m44FADgCzr4FBsD3siIRFTw%2BS3Vbt8idkqK8m29V4v6bqQAA8YsCCOCQLMtS0f/NVs36j%2BXyetXlxpuU3K276VgAgBigAAI4pJKFCxRc87bkcin3uinqcFwf05EAADFCAQTwLWXLl6p82RJJUuDnVyst/yTDiQAAsUQBBNBM5Ttvq2TBPElSx4suUcaZQw0nAgDEGgUQwEHVH3%2Bkor8%2BK0nynzdaWWPGGk4EAGgNFEAAkqTaLZtV8PijUjQq3xlnqeNPLjUdCQDQSiiAAFT/xS7tffghWeGwUk/MV%2BDKq%2BRyuUzHAgC0Egog4HCNRUXa88D9itbVKaX3ccq9dopcHo/pWACAVkQBBBwsXFGhPQ/cp0hVUElHdVOXG2%2BSOzHRdCwAQCujAAIOFamp0e4H7lOopFgJnTor79e3ytOhg%2BlYAIA2QAEEHCja0KA9Mx9U457d8mRkKO%2BWafJmZJiOBQBoIxRAwGGscFgFjz%2Bq%2Bu3b5E5JUddfT1Nip86mYwEA2hAFEHAQKxpV4V%2BfUc0/N8iVkKC8X92spKOOMh0LANDGKICAQ1iWpeIF81T17j8kt1u5U25QyrG9TccCABhAAQQconzpYlWsWC5Jyrl6ktIGnGg2EADAGAog4AAVb61WyYsvSJI6XXK5fKedYTgRAMAkCiBgc1UfrtO%2B//urJClr7Dj5R51nOBEAwDQKIGBjtZ9uUuGTj0mWpYyhw5Q94SLTkQAA7QAFELCp%2Bs8/156H/0dWOKy0QSep8xU/5/m%2BAABJFEDAlhoLC7TnwftlNdQrpU9f5VxzvVxuPt0BAE34igDYTKisTLtn3KdIdZWSuvdQ3o2/kjshwXQsAEA7QgEEbCRSXa09D96ncFmpEgI5yvv1LXInp5iOBQBoZyiAgE1EGxq0538eUOPevfL6/ep6yzR5032mYwEA2iEKIGADVjisvY/OVP1nO%2BTukKq8X09TQnZH07EAAO0UBRCIc1Y0qsJnnlLtxk/kSkxU3k03Kykvz3QsAEA7RgEE4phlWSr%2B2xxVvf%2Be5PGoy9QbldKzl%2BlYAIB2jgIIxLGyv7%2Biijdel1wu5fziGqWeMMB0JABAHKAAAnGqYtUbKn35JUlSp8snyjfkVMOJAADxggIIxKGqD97Xvrn/J0nKGn%2BB/CPONZwIABBPKIBAnKnZ%2BIkKnnq86fm%2Bw0co%2B0c/Nh0JABBnKIBAHKn7bIf2PjpTikSUfvIp6nz5FTzfFwBw2CiAQJxo2LtXex6aIauhQR2OP0E5k67l%2Bb4AgBbhqwcQB0KlpdrzwH2K1tQo%2BZhj1GXKjXJ5vaZjAQDiFAUQaOciVVXa/cD/U7i8TIm5XZT3q1vkTk42HQsAEMcogEA7Fq2v0%2B6HZihUWChvVpbybr5VnrQ007EAAHHOceeQioqKNHTo0G9tv/fee3XhhRcaSAQcWjQU0t5HZqrh851yp6Wp683TlJCVbToWAMAGHFcAN2/erKSkJK1cubLZ3ZPp6ekGUwHNWdGoCp96XLWfbpIrKUldb7pFibldTMcCANiE4wrg1q1b1aNHD3Xu3Nl0FNjYjj2VCu4oky/Zo%2B6Bw/vmwrIs7Zvzv6r%2BcJ1cXq%2B63PArJR99TCslBQA4keMK4JYtW9SzZ0/TMWBjC1Zt19K1Xxz89Zgh3XTx8F4/%2BM%2BXvvyiKt9c3fR838nXKbXf8a2QEgDgZI4rgFu3bpXf79fEiRO1c%2BdOde/eXVOmTDnkdYE/lNcb%2B3tpPB53s7d2Y9f5duypbFb%2BJGnp2i90Sr%2BAeuZl/Ns/X7riNZX9/VVJUu6VP5f/1CGtkjMW7PoaHsB88c/uMzIfjoSjCmA4HNZnn32mXr166be//a3S0tK0ePFiXXvttXr22Wd12mmnHfY%2B3W6X/P7UVkjbxOdLabV9twd2my%2B4o%2BzQ2%2Bsj//bjZN/qt1Q05zlJUreJl%2BuoC8fHPF9rsNtr%2BE3MF//sPiPzoSUcVQC9Xq/Wrl0rj8ej5P3rqJ1wwgnatm2bnn766RYVwGjUUjBYG%2Buo8njc8vlSFAzWKRKJxnz/ptl1Pl%2By5zu3l5fXfOefq/rnBn35Pw9LkrJGjlLquaO/9/e3B3Z9DQ9gvvhn9xmZr%2BV8vhTHH1l0VAGUpNTUbx%2BFOfbYY7VmzZoW7zMcbr1PvEgk2qr7N81u83UPpGvMkG7NTgOPPbWbugfSv3POuu3btPvh/c/3HXKasi%2B%2BTJGIJclqo9RHxm6v4TcxX/yz%2B4zMh5ZwVAHctm2bLr30Us2aNUtDhnx1bdUnn3yiXr1%2B%2BEX6wPe5eHgvndIvoGB95N/eBdywZ7f2/M8Dshob1eGEAcq5ehLP9wUAtDpHFcCePXvqmGOO0Z///Gf96U9/kt/v1/z587V%2B/XotXLjQdDzYSM%2B8DPn9qSovr/nO71xDJcXa/cB9itbWKrlnL3WZcgPP9wUAtAlHfbVxu9167LHHdP/99%2BvXv/61gsGg%2BvXrp2effVa9e/c2HQ8OEg4GtXvGfYpUVCgxr6vyfnWz3ElJpmMBABzCUQVQkjp27Kh7773XdAw4WKSuTnsevF%2BhfUXyduyorjffKs8hrk0FAKC1cLER0IaioUbtffghNXyxS550n7rePE3eTL/pWAAAh6EAAm3EikRU%2BMTjqtuyWe7kZOXdfKsSAzmmYwEAHIgCCLQBy7JU9H9/VfXHHzY93/fGm5TcrbvpWAAAh6IAAm2g5MUXFFzzluRyKfe6KerQp6/pSAAAB6MAAq2sbPlSlS9dLEkKXHmV0vJPMpwIAOB0FECgFVWseVslC%2BZJkjpedLEyzhpmOBEAABRAoNWUvf%2BB9j7ztCTJP2q0/KPHGk4EAEATx60DCLSF2q1b9MV9M6RoVL7Tz1DHiy%2BVy%2BUyHQsAAEkcAQRiLhwM6suHH1a0sVFpJ%2BYr8PNfUP4AAO0KBRCIIcuyVPTsU4oEK9Whezd1nXqDXB6P6VgAADRDAQRiqGLV66r51z/l8iao9603y52YaDoSAADfQgEEYqRhz26VzP%2BbJClw6aVK7d7NcCIAAA6NAgjEQDTUqIInHpMVDiu1/wD5zx1pOhIAAN%2BJAgjEQMkLC9S4Z7c86T4Frp7MTR8AgHaNAggcoZp//VMVr6%2BQJOX8YrK8Pp/hRAAAfD8KIHAEwpWVKnzmKUlS5jkjldp/gOFEAAD8exRAoIUsy1LR7KcVqQoqMa%2BrOv7kYtORAAD4QSiAQAtVvLFy/5IvXuVee73cCSz5AgCIDxRAoAUadn%2BpkgXzJEkdL7lMSXldDScCAOCHowAChyna2KiCJx9vWvJlwEBlDj/HdCQAAA4LBRA4TCUvzG9a8sXnU%2BCqSSz5AgCIOxRA4DBU/3ODKt5YKYklXwAA8YsCCPxA4cpKFT37tCQp89yRSj2BJV8AAPGJAgj8AJZlqfDZ/Uu%2BdD1KHS9iyRcAQPyiAAI/QMXrK1X7yT/lSkhQ7jUs%2BQIAiG8UQODfaNj9pUpeaFrypdPFlyopL89wIgAAjgwFEPge0cZGFTzx2MElXzJY8gUAYAMUQOB7lLwwT41797DkCwDAViiAwHeo/ud6VbzxuiQp5xfXsOQLAMA2KIDAIYQrK7625MsopZ7Q33AiAABihwIIfIMVje5f8qVq/5IvPzEdCQCAmKIAAt9Q8cZK1X7yr6YlX65lyRcAgP1QAIGvafjyS5W8MF%2BS1OmSy5TUhSVfAAD2QwEE9os2NqrgyVlNS74MPFEZZ48wHQkAgFZBAQT2K14wT41798qTkaHAVb9gyRcAgG1RAAFJ1RvWq3LV15Z8SWfJFwCAfTm6AO7cuVP5%2Bfl68cUXTUeBQeGKry35MvI8pR5/guFEAAC0LscWwFAopGnTpqm2ttZ0FBjUtOTLU4pUVynpqKPU8UKWfAEA2J9jC%2BDMmTOVlpZmOgYMq1i5QrUbP5ErIUE511wvd0KC6UgAALQ6RxbADz74QPPmzdNf/vIX01FgUP0Xu1Ty4gJJUqdLLmfJFwCAY3hNB2hrwWBQv/nNb/Qf//Efys3Njck%2Bvd7Y92iPx93srd2Yni/a0KDCpx6XFQ4rLT9f2eeeE9O7fk3P1xbsPiPzxT%2B7z8h8OBKOK4B33nmn8vPzNX78%2BJjsz%2B12ye9Pjcm%2BDsXnS2m1fbcHpubb8dgcNe7dqwS/X/1u%2BZUSfK1zOYDdXz/J/jMyX/yz%2B4zMh5ZwVAFctGiR1q1bp1dffTVm%2B4xGLQWDsb%2BRxONxy%2BdLUTBYp0gkGvP9m2ZyvqqPP1Lh0uWSpNxJ16g64pHKa2L6d9j99ZPsPyPzxT%2B7z8h8LefzpTj%2ByKKjCuDChQtVWlqqs88%2Bu9n26dOna8mSJXrqqadatN9wuPU%2B8SKRaKvu37S2ni9cUaG9Tzct%2BeIfNVrJffrx%2Bh0hu8/IfPHP7jMyH1rCUQXwvvvuU319fbNto0aN0q9%2B9Sv96Ec/MpQKbcWKRlX4zJP7l3zppuwJF5mOBACAEY4qgIFA4JDbs7Ozv/N9sI%2BKla%2BpdtNGuRITlXstS74AAJzL2SfA4RhNS768IEnqdOnlSsztYjgRAADmOOoI4KFs2bLFdAS0smhDgwqfeExWOKzUE/OVMfRs05EAADCKI4CwveL5f1NjYYE8GZnK%2BfkvYrreHwAA8YgCCFur/vgjVb65SpKUM%2BkaedLTDScCAMA8CiBsK1xRrsK/PiNJ8p83Wqn9jjecCACA9oECCFuyolEVPv2UotXVSurWXR0n/MR0JAAA2g0KIGypfMVy1X66f8mXa66Ty%2Bv4%2B50AADiIAgjbab7ky09Z8gUAgG%2BgAMJWDiz5okhEafknKWPoMNORAABodyiAsJXi%2Bc83LfmSmanAz69myRcAAA6BAgjbqP74Q1W%2BuVpyuZQ76Vp50tJMRwIAoF2iAMIWmpZ8eVaS5B81Wh369jOcCACA9osCiLjXtOTLk19b8uUi05EAAGjXKICIe01LvmxqWvLl2utZ8gUAgH%2BDAoi4Vr/r86%2BWfLnsp0rMyTWcCACA9o8CiLgVbWhQwZNfW/LlLJZ8AQDgh6AAIm4Vz3teocJCef1%2BlnwBAOAwUAARl6o%2B%2BlCVb62WXC7l/OIalnwBAOAwUAARd0Ll5Sr66zOSJP95Y1jyBQCAw0QBRFyxolEVPfOkojU1SureQx1/fKHpSAAAxB0KIOJK%2BWvLvlry5ZrrWPIFAIAWoAAibtTv%2BlwlLy2UJHW%2BbCJLvgAA0EIUQMSFaEODCp7Yv%2BTLoJPkO2uo6UgAAMQtCiDiQvG8uQoV7V/y5UqWfAEA4EhQANHuNS358mbTki%2BTrmXJFwAAjhAFEO3at5Z86dPXcCIAAOIfBRDtlhWNqvDpJ1jyBQCAGKMAot0qX75MdZs/3b/ky/Us%2BQIAQIxQANEu1X%2B%2BUyWL9i/5cvlEJebkGE4EAIB9UADR7kTr61Xw5P4lX04aLN%2BZLPkCAEAsUQDR7uz721yFiork9Wcp8LOrWPIFAIAYowCiXan68AMF17y1f8mXa1jyBQCAVkABRLsRKitV0V9nS5L8o8ey5AsAAK2EAoh2oWnJlycVra1RUo%2Bj1fGCCaYjAQBgWxRAtAvly5aobstmuZKSlHvNdSz5AgBAK6IAwrj6nZ%2Bp5OWXJO1f8iXAki8AALQmCiCMitbXq%2BCpx79a8uWMs0xHAgDA9iiAMKpwznNfLfly5dUs%2BQIAQBtwXAEsLS3VbbfdplNPPVX5%2Bfm69tprtWPHDtOxHKnknXdV8fb%2BJV8mXytPaqrpSAAAOILjCuANN9ygXbt26YknntALL7yg5ORkXXXVVaqrqzMdzVFCpaXa/sgsSVLWmPPV4bg%2BhhMBAOAcjiqAlZWVysvL0913360BAwaoZ8%2Bemjp1qvbt26dt27aZjucYVjSq7Q8/qkhNjVx53ZT9ox%2BbjgQAgKM4qgBmZGTo/vvvV%2B/evSVJZWVlmj17tnJyctSrVy/D6Zzj9WdelLVzmxpdXj3mGaQX3v7cdCQAABzFsYut/eEPf9D8%2BfOVmJioWbNmqUOHDi3el9cb%2Bx7t8bibvbWL7TsKlf3BSknSmqyBKk/0aenaL3RKv4B65mUYThc7dn39vs7uMzJf/LP7jMyHI%2BGyLMsyHcKE7du3q76%2BXnPmzNGSJUs0d%2B5cHX/88Ye9H8uyuHP1MLx570x531ut0gSfnu42XlGXR5J08%2BWDNGLwUYbTAQDgDI49AnjglO8999yjDRs26LnnntO999572PuJRi0Fg7WxjiePxy2fL0XBYJ0ikWjM929Cw9498r7/liRpZceTD5Y/SfIle1ReXmMqWszZ8fX7JrvPyHzxz%2B4zMl/L%2BXwpjj%2By6KgCWFZWpnfffVfnnXeevPsfNeZ2u9WrVy/t27evxfsNh1vvEy8Sibbq/tuKZVkqmDNHikZVmXesdqbkHXzf2FO7qXsg3RZzfpNdXr/vY/cZmS/%2B2X1G5kNLOKoAlpSU6JZbbtFTTz2ls85qeuJEKBTSpk2bNGLECMPp7K1mw3rVbvxELq9XA6dO1nR1ULA%2BIl%2ByR90D6abjAQDgKI4qgL1799bQoUN199136%2B6771ZGRoYef/xxBYNBXXXVVabj2VY01KjieXMlSf5Ro5UYCKin1y2/P1Xl5TV8ZwcAQBtz3AnwGTNm6LTTTtPNN9%2Bsiy%2B%2BWBUVFZozZ466dOliOpptlb%2B2XKHiYnkyM5U1dpzpOAAAOJ6jjgBKUnp6uu68807deeedpqM4QqisTGWLX5Ukdbr4UrmTkw0nAgAAjjsCiLZV8sJ8WY2NSu51rNJPOdV0HAAAIAogWlHt1i2qev89yeVS559ewXqJAAC0ExRAtAorGlXx83MkSRlnDVNyt%2B6GEwEAgAMogGgVlW%2B/qYYvv5C7QwdlT7jQdBwAAPA1FEDEXKS6WiUvLZQkZV8wQd50n%2BFEAADg6yiAiLnSV15StLpaiV3ylHk2C2wDANDeUAARUw27v1TFqjckSZ0vnyiXx/Nv/gQAAGhrFEDEjGVZ2vf8HMmylHbSYHXo2890JAAAcAgUQMRM9YcfqG7LZrkSEtTpkstMxwEAAN%2BBAoiYiDY0qHj%2BPEmSf/RYJWR3NJwIAAB8FwogYqJs2RKFy0rlzcpW1uixpuMAAIDvQQHEEQuVFKt82RJJUqdLLpM7KclwIgAA8H0ogDhixQvmyQqFlNKnr9JOGmw6DgAA%2BDcogDgitZ9uUvWH6yS3W50v%2BynP%2BwUAIA5QANFiVjjctOyLpMyzRyip61GGEwEAgB%2BCAogWq1i9So1798idlqbsCyaYjgMAAH4gCiBaJFwVVOkrL0mSOk64SJ7UVMOJAADAD0UBRIuUvvSiorW1SjqqmzLOGmY6DgAAOAwUQBy2%2Bl2fq/LtNyVJnX96hVxuPowAAIgnfOXGYbEsS/vmPidZltKHnKqUY3ubjgQAAA4TBRCHpWrtu6rfsV2upCR1/MmlpuMAAIAWoADiB4vW16l4wXxJUvb545Xg9xtOBAAAWoICiB%2BsdPHfFamsUEKnTsocOcp0HAAA0EIUQPwgjUVFqlixXJLU6dKfyp2QaDgRAABoKQogfpDi%2Bc/LCofV4fgTlDrwRNNxAADAEaAA4t%2Bq%2Bdc/VbNhveTx8LxfAABsgAKI72WFw9r3t7mSJP85I5WY28VwIgAAcKQogPhe5a%2BvUKioUB6fT1njLzAdBwAAxAAFEN8pXFGh0ldeliR1vPBieVJSDCcCAACxQAHEdyp5cYGshnol9ThavtPPMB0HAADECAUQh1T32Q4F//GOJJ73CwCA3fBVHd9iRaNNz/uV5Dv9TKUc09NwIgAAEEsUQHxL8B/vqOHznXInJ6vjRT8xHQcAAMQYBRDNRGprVbJwgSQpa/wF8mZkmg0EAABijgKIZspefVmRqqAScnLkP2ek6TgAAKAVUABxUMPevSp/Y6UkNT3xw%2Bs1nAgAALQGxxXAiooK/fGPf9TQoUM1aNAgXX755Vq3bp3pWMZZlqXieXOlSESpA09U6gkDTEcCAACtxHEF8JZbbtHHH3%2BsGTNmaOHCherbt68mTZqkzz77zHQ0o2o2rFftxk/k8nrV6ZLLTccBAACtyFEFcNeuXXrnnXd05513avDgwTr66KP1hz/8QZ07d9arr75qOp4x0VBj09E/Sf5Ro5UYCBhOBAAAWpOjCqDf79cTTzyh/v37H9zmcrnkcrkUDAYNJjOr/LXlChUXy5OZqayx40zHAQAArcxRV/n7fD4NGzas2bbly5dr165duuOOO1q8X6839j3a43E3e9taQmVlKlvcdPQz59LLlJjWoVX/vgPaaj5T7D6fZP8ZmS/%2B2X1G5sORcFmWZZkOYcpHH32kyZMn64wzztDMmTNbtA/LsuRyuWKcrO1suf8Blby1Rul9%2B6j/vXfH9SwAAOCHcdQRwK9buXKlpk2bpkGDBum%2B%2B%2B5r8X6iUUvBYG0MkzXxeNzy%2BVIUDNYpEonGfP%2BSVLNli0reWiO5XOp42U9VURH7Ob5LW8xnkt3nk%2Bw/I/PFP7vPyHwt5/OlOP7IoiML4HPPPad77rlHo0eP1n/9138pMTHxiPYXDrfeJ14kEm2V/VvRqAqf%2B19JUsZZw5SQ161V5/gurTVfe2H3%2BST7z8h88c/uMzIfWsJx9Xfu3Lm66667NHHiRM2YMeOIy1%2B8qnz7TTV8%2BaXcHTooe8KFpuMAAIA25KgjgDt37tR//ud/auTIkbruuutUUlJy8H3JyclKT083mK7tRKqrVfLSQklS9gUT5E33GU4EAADakqMK4PLlyxUKhbRixQqtWLGi2fsmTJigv/zlL4aSta3SV15StLpaiV3ylHn2CNNxAABAG3NUAbz%2B%2But1/fXXm45hVMPuL1Wx6g1JUufLJ8rl8RhOBAAA2prjrgF0MsuytO/5OZJlKe2kwerQt5/pSAAAwAAKoINUf/iB6rZslishQZ0uvtR0HAAAYAgF0CGiDQ0qnv83SZJ/9FgldOxkOBEAADCFAugQZcuWKFxWJm9WtrJGjzUdBwAAGEQBdIBQSbHKly2RJHW65DK5k5IMJwIAACZRAB2geME8WaGQUvr0VdpJg03HAQAAhlEAba72002q/nCd5Har82U/lcvlMh0JAAAYRgG0MSscblr2RVLm2cOV1PUow4kAAEB7QAG0sYrVq9S4d4/caWnK/tEE03EAAEA7QQG0qXBVUKUvvyhJ6jjhInnS0gwnAgAA7QUF0KZKX3pR0bo6JR3VTRlnDTMdBwAAtCMUQBuq3/W5Kt9%2BU5LU%2BadXyOXmZQYAAF%2BhGdiMZVnaN/c5ybKUPuRUpRzb23QkAADQzlAAbaZq7buq37FdrsREdbzoEtNxAABAO0QBtJFofZ2KF8yXJGWdP14JWVmGEwEAgPaIAmgjpYv/rkhlhRI6dZJ/1Hmm4wAAgHaKAmgTjUVFqlixXJLU6dKfyp2QaDgRAABoryiANlE8/3lZ4bA6HH%2BCUgeeaDoOAABoxyiANlDzr3%2BqZsN6yePheb8AAODfogDGOSsc1r6/zZUk%2Bc8ZqcTcLoYTAQCA9o4CGOfKX1%2BhUFGhPOk%2BZY37kek4AAAgDlAA41i4okKlr7wsSep40cXydOhgOBEAAIgHFMA4VvLiAlkN9UrqcbR8p59hOg4AAIgTFMA4VffZDgX/8Y4knvcLAAAOD60hDlnRaNPzfiX5Tj9TKcf0NJwIAADEEwpgHAr%2B4x01fL5T7uRkdbzoJ6bjAACAOEMBjDOR2lqVLFwgScoaf4G8GZlmAwEAgLhDAYwzZa%2B%2BrEhVUAk5OfKfM9J0HAAAEIcogHGkYe9elb%2BxUpKanvjh9RpOBAAA4hEFME5YlqXieXOlSESpA09U6gkDTEcCAABxigIYJ2o2rFftxk/k8nrV6ZLLTccBAABxjAIYB6Khxqajf5L8o0YrMRAwnAgAAMQzCmAcKH9tuULFxfJkZipr7DjTcQAAQJyjALZzobIylS1%2BVZLU6SeXyJ2cbDgRAACIdxTAdq5o/t9kNTYquWcvpQ85zXQcAABgAxTAdqxy4yYF33tPcrmanvfrcpmOBAAAbMDRBfDxxx/Xz372M9MxDsmKRrXzyaclSRlnDVNy9x5mAwEAANtwbAGcM2eOHnzwQdMxvlPFm6tVs/NzuTt0UPaEC03HAQAANuK4R0kUFRVp%2BvTpWrt2rXr06GE6ziFFqqtVsKDpeb/uEWPlTfcZTgQAAOzEcUcAN27cqISEBL3yyisaOHCg6TiHtHruYqm2RsWJmbrn02QtWLXddCQAAGAjjjsCOGLECI0YMSKm%2B/R6Y9ejd%2Byp1Cv7OugMXy99kNlPlsutpWu/0Cn9AuqZlxGzv8c0j8fd7K3d2H0%2Byf4zMl/8s/uMzIcj4bgCGGtut0t%2Bf2rM9hfcUaYqb6qWdT69%2Bfb6SEz/nvbC50sxHaFV2X0%2Byf4zMl/8s/uMzIeWoAAeoWjUUjBYG7P9%2BZI937m9vLwmZn%2BPaR6PWz5fioLBOkUiUdNxYs7u80n2n5H54p/dZ2S%2BlvP5Uhx/ZJECGAPhcOw%2BMLsH0jVmSDctXfvFwW1jT%2B2m7oH0mP497UUkErXlXAfYfT7J/jMyX/yz%2B4zMh5agALZDFw/vpVP6BRSsj8iX7FH3QLrpSAAAwEYogO1Uz7wM%2Bf2pKi%2Bv4TsfAAAQU84%2BAQ4AAOBAjj4C%2BJe//MV0BAAAgDbHEUAAAACHoQACAAA4DAUQAADAYSiAAAAADkMBBAAAcBgKIAAAgMNQAAEAAByGAggAAOAwFEAAAACHcVmWZZkOEc8sy1I02jr/hB6PW5GIfZ8DzHzxz%2B4zMl/8s/uMzNcybrdLLpcr5vuNJxRAAAAAh%2BEUMAAAgMNQAAEAAByGAggAAOAwFEAAAACHoQACAAA4DAUQAADAYSiAAAAADkMBBAAAcBgKIAAAgMNQAAEAAByGAggAAOAwFEAAAACHoQC2Y48//rh%2B9rOfmY4RUxUVFfrjH/%2BooUOHatCgQbr88su1bt0607FiqrS0VLfddptOPfVU5efn69prr9WOHTtMx2oVO3fuVH5%2Bvl588UXTUWKmqKhIxx133Ld%2B2GlGSVq0aJHGjh2r/v376/zzz9fSpUtNR4qJtWvXHvL1O%2B6443TOOeeYjhcT4XBYDz30kIYPH678/HxNnDhR69evNx0rpqqrqzV9%2BnSdeeaZOuWUUzRt2jSVlpaajmUrFMB2as6cOXrwwQdNx4i5W265RR9//LFmzJihhQsXqm/fvpo0aZI%2B%2B%2Bwz09Fi5oYbbtCuXbv0xBNP6IUXXlBycrKuuuoq1dXVmY4WU6FQSNOmTVNtba3pKDG1efNmJSUl6e2339aaNWsO/hg7dqzpaDHz8ssv6/e//70mTpyoxYsXa9y4cQc/N%2BNdfn5%2Bs9dtzZo1evjhh%2BVyuTR16lTT8WJi1qxZWrBgge666y4tWrRIRx99tCZPnqx9%2B/aZjhYzN910k958803dc889mjNnjurq6nTllVeqsbHRdDTboAC2M0VFRbr%2B%2But13333qUePHqbjxNSuXbv0zjvv6M4779TgwYN19NFH6w9/%2BIM6d%2B6sV1991XS8mKisrFReXp7uvvtuDRgwQD179tTUqVO1b98%2Bbdu2zXS8mJo5c6bS0tJMx4i5rVu3qkePHurcubM6dep08EdycrLpaDFhWZYeeughXXnllZo4caK6deumKVOm6PTTT9f7779vOt4RS0xMbPa6paam6t5779WECRN00UUXmY4XEytXrtS4ceN05plnqnv37vrtb3%2Brqqoq2xwF/PTTT7VmzRr9%2Bc9/1rBhw3Tsscfqv//7v7Vv3z4tXrzYdDzboAC2Mxs3blRCQoJeeeUVDRw40HScmPL7/XriiSfUv3//g9tcLpdcLpeCwaDBZLGTkZGh%2B%2B%2B/X71795YklZWVafbs2crJyVGvXr0Mp4udDz74QPPmzdNf/vIX01FibsuWLerZs6fpGK1m586d2rNnj8aPH99s%2B9NPP63rrrvOUKrW89hjj6murk6333676Sgxk52drVWrVmn37t2KRCKaN2%2BeEhMT1adPH9PRYuLzzz%2BXJA0ePPjgttTUVHXv3t0W36S0F17TAdDciBEjNGLECNMxWoXP59OwYcOabVu%2BfLl27dqlO%2B64w1Cq1vOHP/xB8%2BfPV2JiombNmqUOHTqYjhQTwWBQv/nNb/Qf//Efys3NNR0n5rZu3Sq/36%2BJEydq586d6t69u6ZMmaKhQ4eajhYTO3fulCTV1tZq0qRJ2rRpk7p27aopU6bY7v%2BeA9%2BA3XrrrcrMzDQdJ2Z%2B//vf66abbtI555wjj8cjt9utmTNnqlu3bqajxUTnzp0lSQUFBQe/GYtEIiosLFR2drbJaLbCEUAY89FHH%2Bl3v/udRo0apbPPPtt0nJj7%2Bc9/roULF2rcuHG64YYbtHHjRtORYuLOO%2B9Ufn7%2Bt44g2UE4HNZnn32myspK/fKXv9QTTzyhE088Uddee63effdd0/Fiorq6WpJ0%2B%2B23a9y4cXrmmWd0xhlnaOrUqbaZ8YC5c%2BcqPT1dl156qekoMbV9%2B3alp6frkUce0bx583ThhRdq2rRp%2BvTTT01Hi4n%2B/fvrmGOO0fTp01VUVKT6%2Bnrdf//9Ki8vVygUMh3PNjgCCCNWrlypadOmadCgQbrvvvtMx2kVB0753nPPPdqwYYOee%2B453XvvvYZTHZlFixZp3bp1trlm85u8Xq/Wrl0rj8dz8Jq/E044Qdu2bdPTTz%2Bt0047zXDCI5eQkCBJmjRpkiZMmCBJ6tu3rzZt2qRnn33WFjMesGjRIv34xz%2B2zfWbUtNRsVtvvVWzZ88%2BeIq0f//%2B2r59u2bOnKlHH33UcMIjl5iYqIcffli/%2Bc1vNHToUCUkJGj8%2BPEaPny43G6OW8UK/5Joc88995x%2B%2Bctfavjw4XrssceUlJRkOlLMlJWVafHixQqHwwe3ud1u9erVyxZ36C1cuFClpaU6%2B%2ByzlZ%2Bfr/z8fEnS9OnTNXnyZMPpYiM1NfVbheHYY49VUVGRoUSxFQgEJOngdaoH9OrVS7t37zYRqVVs3rxZX375pe2OVG/YsEGhUKjZtdSSNHDgQO3atctQqtjr2bOnFi5cqLVr1%2Bq9997Tvffeq8LCQtuc5m4PKIBoU3PnztVdd92liRMnasaMGUpMTDQdKaZKSkp0yy23NDuVFgqFtGnTJlvcWHDfffdpyZIlWrRo0cEfkvSrX/1K99xzj9lwMbBt2zYNGjRIa9eubbb9k08%2Bsc1NPMcff7xSU1O1YcOGZtu3bt1qqy%2Bu69atU3Z2tm1ujDggJydHUtPNSl934O51O6iurtYVV1yhzZs3KzMzU2lpadq9e7c2bdqkM844w3Q82%2BAUMNrMzp079Z//%2BZ8aOXKkrrvuOpWUlBx8X3JystLT0w2mi43evXtr6NChuvvuu3X33XcrIyNDjz/%2BuILBoK666irT8Y7YgaNH35Sdnf2d74snPXv21DHHHKM///nP%2BtOf/iS/36/58%2Bdr/fr1Wrhwoel4MZGcnKzJkyfrkUceUSAQ0IABA7R48WK98847mj17tul4MbNp0yYdd9xxpmPE3IABA3TSSSfp9ttv1/Tp05WTk6NFixbp3Xff1fPPP286XkykpaXJsizdc889%2BuMf/6j6%2BnrdcccdOvXUU211iYJpFEC0meXLlysUCmnFihVasWJFs/dNmDDBNkuKzJgxQ/fff79uvvlmVVVVafDgwZozZ466dOliOhr%2BDbfbrccee0z333%2B/fv3rXysYDKpfv3569tlnv3XKNJ5NnTpVKSkpeuCBB1RUVKSePXtq5syZGjJkiOloMVNcXGyrO38PcLvdmjVrlh588EH97ne/U2VlpXr37q3Zs2fbaumwGTNm6K677tLll1%2BuxMREjRo1SrfddpvpWLbisizLMh0CAAAAbYdrAAEAAByGAggAAOAwFEAAAACHoQACAAA4DAUQAADAYSiAAAAADkMBBAAAcBgKIAAAgMNQAAEAAByGAggAAOAwFEAAAACHoQACAAA4DAUQAADAYSiAAAAADkMBBAAAcBgKIAAAgMNQAAEAAByGAggAAOAwFEAAAACHoQACAAA4DAUQAADAYSiAAAAADkMBBAAAcBgKIAAAgMNQAAEAAByGAggAAOAwFEAAAACHoQACAAA4zP8HKrS0hqvbfdQAAAAASUVORK5CYII%3D"
     },
     "metadata": {
      "image/png": {
       "height": 480,
       "width": 640
      }
     },
     "output_type": "display_data"
    },
    {
     "name": "stdout",
     "output_type": "stream",
     "text": [
      "Figure(640x480)"
     ]
    }
   ],
   "source": [
    "#NEW{y:[[1], [3], [5], [6], [6], [8], [8], [7], [7]], örnek grafikten çıkarımlanmıştır. Yanlışlanabilir.}\n",
    "y = [[1], [3], [5], [6], [6], [8], [8], [7], [7]]\n",
    "model = LinearRegression!\n",
    "model.fit x_polinom y\n",
    "y_polinom_tahmin = model.predict x_polinom\n",
    "#SPC{Doge gerçeklemesine özel, figürü almalıyız. Diğer ödevleri okuduysanız aşinasınızdır artık.}\n",
    "figür = plt.figure!\n",
    "# Noktaların grafiği:\n",
    "plt.scatter x y s: 10\n",
    "# Regresyon doğrusu:\n",
    "plt.plot x y_polinom_tahmin color: 'r'\n",
    "    \n",
    "figür"
   ]
  },
  {
   "cell_type": "code",
   "execution_count": 7,
   "id": "13204082",
   "metadata": {},
   "outputs": [
    {
     "name": "stdout",
     "output_type": "stream",
     "text": [
      "[-1.33333333]\n",
      "[[ 0.          2.55151515 -0.18181818]]\n",
      "\n"
     ]
    }
   ],
   "source": [
    "print model.intercept_\n",
    "print model.coef_"
   ]
  },
  {
   "cell_type": "code",
   "execution_count": 8,
   "id": "14119e59",
   "metadata": {},
   "outputs": [
    {
     "name": "stdout",
     "output_type": "stream",
     "text": [
      "Böylece model; `Y = -1.33 + 2.552x -0.1818x²` olarak ifade edilir."
     ]
    }
   ],
   "source": [
    "\"Böylece model; `Y = {:.2f} + {:.3f}x {:.4f}x²` olarak ifade edilir.\".format (model.intercept_ !! 0) *:(model.coef_ |> head |> tail |> list)"
   ]
  },
  {
   "cell_type": "code",
   "execution_count": 9,
   "id": "03673cd6",
   "metadata": {},
   "outputs": [
    {
     "name": "stdout",
     "output_type": "stream",
     "text": [
      "Eğitim seti için R-kare: 0.9647"
     ]
    }
   ],
   "source": [
    "\"Eğitim seti için R-kare: {:.4f}\".format $ model.score x_polinom y"
   ]
  },
  {
   "cell_type": "code",
   "execution_count": 10,
   "id": "047ce7e4",
   "metadata": {},
   "outputs": [
    {
     "name": "stdout",
     "output_type": "stream",
     "text": []
    }
   ],
   "source": [
    "#Kaynaklar:\n",
    "# https://scikit-learn.org/stable/modules/generated/sklearn.pipeline.FeatureUnion.html#sklearn.pipeline.FeatureUnion.get_feature_names_out\n",
    "# https://matplotlib.org/3.5.0/api/_as_gen/matplotlib.pyplot.scatter.html, argüman listesi incelendi, y çıkarımı yapıldı."
   ]
  }
 ],
 "metadata": {
  "kernelspec": {
   "display_name": "Idg",
   "language": "dg",
   "name": "idg"
  },
  "language_info": {
   "codemirror_mode": {
    "name": "python"
   },
   "file_extension": ".dg",
   "mimetype": "text/dg",
   "name": "Dg",
   "pygments_lexer": "ipython3"
  }
 },
 "nbformat": 4,
 "nbformat_minor": 5
}
