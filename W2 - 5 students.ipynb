{
 "cells": [
  {
   "cell_type": "code",
   "execution_count": null,
   "id": "747b56a0",
   "metadata": {},
   "outputs": [],
   "source": [
    "%matplotlib inline\n",
    "import matplotlib.pyplot as plt"
   ]
  },
  {
   "cell_type": "code",
   "execution_count": 2,
   "id": "b40cb1f3",
   "metadata": {},
   "outputs": [
    {
     "name": "stdout",
     "output_type": "stream",
     "text": [
      "False"
     ]
    }
   ],
   "source": [
    "# Yapılandırmalar:\n",
    "# Grafiklerin ana-akış işleci durdurmaması için??\n",
    "# plt.ion!\n",
    "showGraphicalOutput = False"
   ]
  },
  {
   "cell_type": "code",
   "execution_count": 3,
   "id": "fb6906ae",
   "metadata": {},
   "outputs": [
    {
     "name": "stdout",
     "output_type": "stream",
     "text": [
      "[[60], [65], [72.3], [75], [80]]"
     ]
    }
   ],
   "source": [
    "# Tanımlar:\n",
    "# Bir günde ortalama kaç saat ders çalıştığı:\n",
    "saat = [[1.6], [1.65], [1.7], [1.73], [1.8]]\n",
    "# Sınavdan Aldığı notlar:\n",
    "notlar = [[60], [65], [72.3], [75], [80]]"
   ]
  },
  {
   "cell_type": "code",
   "execution_count": null,
   "id": "815c4d72",
   "metadata": {},
   "outputs": [],
   "source": [
    "# Tablo Başlığı:\n",
    "plt.title \"Saate Karşı Notların Grafiği\"\n",
    "# Tablo X düzlem etiketi:\n",
    "plt.xlabel \"SAAT\"\n",
    "# Tablo Y düzlem etiketi:\n",
    "plt.ylabel \"NOTLAR\"\n",
    "# Grafik çağrımı:\n",
    "plt.plot saat notlar 'k.'\n",
    "# X, Y düzlem genişlikleri:\n",
    "plt.axis [1.5, 1.8, 50, 90]\n",
    "# Izgara: aktif\n",
    "plt.grid True\n",
    "\n",
    "showGraphicalOutput and plt.show!"
   ]
  },
  {
   "cell_type": "code",
   "execution_count": 5,
   "id": "57f04642",
   "metadata": {},
   "outputs": [
    {
     "name": "stdout",
     "output_type": "stream",
     "text": [
      "<function fromPredict at 0x102cf9b70>"
     ]
    }
   ],
   "source": [
    "# Yardımcı: ndarray -> atomic\n",
    "fromPredict = m -> m |>.flatten! |>.tolist!"
   ]
  },
  {
   "cell_type": "code",
   "execution_count": 6,
   "id": "4624fc64",
   "metadata": {},
   "outputs": [
    {
     "name": "stdout",
     "output_type": "stream",
     "text": [
      "Tahmin: 76.04\n",
      "\n"
     ]
    }
   ],
   "source": [
    "LinearRegression = import '/sklearn/linear_model/LinearRegression'\n",
    "\n",
    "# Model kurma ve uydurma:\n",
    "model = LinearRegression!\n",
    "model.fit X:saat y:notlar\n",
    "\n",
    "# Tahmin yapma:\n",
    "[tahmin] =\n",
    "         model.predict [[1.75]] |> fromPredict\n",
    "print \"Tahmin:\" $ round tahmin 2"
   ]
  },
  {
   "cell_type": "code",
   "execution_count": null,
   "id": "b9f8b1d9",
   "metadata": {},
   "outputs": [],
   "source": [
    "# Tablo Başlığı:\n",
    "plt.title \"Saate Karşı Notların Grafiği\"\n",
    "# Tablo X düzlem etiketi:\n",
    "plt.xlabel \"SAAT\"\n",
    "# Tablo Y düzlem etiketi:\n",
    "plt.ylabel \"NOTLAR\"\n",
    "# Grafik çağrımı:\n",
    "plt.plot saat notlar 'k.'\n",
    "# X, Y düzlem genişlikleri:\n",
    "plt.axis [1.5, 1.8, 50, 90]\n",
    "# Izgara: aktif\n",
    "plt.grid True\n",
    "\n",
    "plt.plot saat (model.predict saat) color:'r'\n",
    "\n",
    "showGraphicalOutput and plt.show!"
   ]
  },
  {
   "cell_type": "code",
   "execution_count": null,
   "id": "21a9dd93",
   "metadata": {},
   "outputs": [],
   "source": [
    "ekstremeSaat = [[0], [1.8]]\n",
    "\n",
    "# Tablo Başlığı:\n",
    "plt.title \"Saate Karşı Notların Grafiği\"\n",
    "# Tablo X düzlem etiketi:\n",
    "plt.xlabel \"SAAT\"\n",
    "# Tablo Y düzlem etiketi:\n",
    "plt.ylabel \"NOTLAR\"\n",
    "# Grafik çağrımı:\n",
    "plt.plot saat notlar 'k.'\n",
    "# X, Y düzlem genişlikleri:\n",
    "plt.axis [0, 1.85, -200, 200]\n",
    "# Izgara: aktif\n",
    "plt.grid True\n",
    "\n",
    "plt.plot ekstremeSaat (model.predict ekstremeSaat) color:'r'\n",
    "\n",
    "showGraphicalOutput and plt.show!"
   ]
  },
  {
   "cell_type": "code",
   "execution_count": 9,
   "id": "3bd19f1c",
   "metadata": {},
   "outputs": [
    {
     "name": "stdout",
     "output_type": "stream",
     "text": [
      "Tahmin: -104.75\n",
      "\n"
     ]
    }
   ],
   "source": [
    "# Saat değişkenini 0 (sıfır) seçerek, Y eksenini kestiği, eğitim noktası bulunur.\n",
    "# round model.predict([[0]])[0][0] 2\n",
    "tahmin_ = model.predict [[0]] |> fromPredict |> head\n",
    "print \"Tahmin:\" $ round tahmin_ 2"
   ]
  },
  {
   "cell_type": "code",
   "execution_count": 10,
   "id": "9a60ec97",
   "metadata": {},
   "outputs": [
    {
     "name": "stdout",
     "output_type": "stream",
     "text": [
      "Katsayı: 103.31\n",
      "\n"
     ]
    }
   ],
   "source": [
    "print \"Katsayı:\" (round (model.coef_ |> head |> head) 2)"
   ]
  },
  {
   "cell_type": "code",
   "execution_count": 11,
   "id": "78b717a0",
   "metadata": {},
   "outputs": [
    {
     "name": "stdout",
     "output_type": "stream",
     "text": [
      "<module 'numpy' from '/Users/sckn/.pyenv/versions/3.6.15/lib/python3.6/site-packages/numpy/__init__.py'>"
     ]
    }
   ],
   "source": [
    "np = import '/numpy'"
   ]
  },
  {
   "cell_type": "code",
   "execution_count": 12,
   "id": "1fee3aaf",
   "metadata": {},
   "outputs": [
    {
     "name": "stdout",
     "output_type": "stream",
     "text": [
      "Artık Kareler Toplamı: 404.51\n",
      "\n"
     ]
    }
   ],
   "source": [
    "# RNM{notlar->tahmin}\n",
    "\n",
    "# Örnek tutarlılığı için, dökümandaki notlar yeniden tanımlaması yapılmak\n",
    "# yerine, hesaplama tahmin ismiyle tanımlanmıştır.\n",
    "# Aşağıdaki ifadede ise tahmin hesaplaması, notlar olarak yeniden\n",
    "# kullanılmak istenmiştir.\n",
    "\n",
    "artıkKarelerToplamı = np.sum ((tahmin - (model.predict saat)) ** 2)\n",
    "print (\"Artık Kareler Toplamı: {:.2f}\".format artıkKarelerToplamı)"
   ]
  },
  {
   "cell_type": "code",
   "execution_count": 13,
   "id": "704d03dd",
   "metadata": {},
   "outputs": [
    {
     "name": "stdout",
     "output_type": "stream",
     "text": [
      "[[58], [63], [72], [73], [85]]"
     ]
    }
   ],
   "source": [
    "# Test verisi:\n",
    "saat_test = [[1.58], [1.62], [1.69], [1.76], [1.82]]\n",
    "notlar_test = [[58], [63], [72], [73], [85]]"
   ]
  },
  {
   "cell_type": "code",
   "execution_count": 14,
   "id": "f6acf812",
   "metadata": {},
   "outputs": [
    {
     "name": "stdout",
     "output_type": "stream",
     "text": [
      "TKT: 430.80 \n",
      "AKT: 25090.95 \n",
      "R-kare: -57.24\n",
      "\n"
     ]
    }
   ],
   "source": [
    "#RNM{notlar_test_mean->notlar_test_ortalama}\n",
    "#EaV{notlar_test_çözüm:np.ravel(notlar_test)}\n",
    "\n",
    "# Toplam kareler Toplamı:\n",
    "notlar_test_çözüm = np.ravel(notlar_test)\n",
    "notlar_test_ortalama = np.mean(notlar_test_çözüm)\n",
    "TKT = np.sum ((notlar_test_çözüm - notlar_test_ortalama) ** 2)\n",
    "\n",
    "# Artık Kareler Toplamı:\n",
    "AKT = np.sum((\n",
    "    notlar_test_çözüm\n",
    "    -\n",
    "    np.ravel(\n",
    "        model.predict(saat_test)\n",
    "    )\n",
    ") ** 2)\n",
    "\n",
    "# R'nin karesi:\n",
    "R_kare = 1 - (AKT / TKT)\n",
    "\n",
    "print (\"TKT: {:.2f} \\nAKT: {:.2f} \\nR-kare: {:.2f}\".format TKT AKT R_kare)"
   ]
  },
  {
   "cell_type": "code",
   "execution_count": 15,
   "id": "0f4e322e",
   "metadata": {},
   "outputs": [
    {
     "name": "stdout",
     "output_type": "stream",
     "text": [
      "R-kare: 0.9429\n",
      "\n"
     ]
    }
   ],
   "source": [
    "#EaV{hesaplanan_R_kare:model.score(saat_test, notlar_test)}\n",
    "\n",
    "# Scikit-Learn Kullanarak R-kare hesaplama:\n",
    "hesaplanan_R_kare = model.score saat_test notlar_test\n",
    "print (\"R-kare: {:.4f}\".format hesaplanan_R_kare)"
   ]
  },
  {
   "cell_type": "code",
   "execution_count": 16,
   "id": "1ded6811",
   "metadata": {},
   "outputs": [
    {
     "name": "stdout",
     "output_type": "stream",
     "text": [
      "Sonuç: 0.9429 (%94.29)\n",
      "\n"
     ]
    }
   ],
   "source": [
    "print (\"Sonuç: {:.4f} (%{:.2f})\".format hesaplanan_R_kare (hesaplanan_R_kare * 100))"
   ]
  }
 ],
 "metadata": {
  "kernelspec": {
   "display_name": "Idg",
   "language": "dg",
   "name": "idg"
  },
  "language_info": {
   "codemirror_mode": {
    "name": "haskell"
   },
   "file_extension": ".dg",
   "mimetype": "text/dg",
   "name": "Dg",
   "pygments_lexer": "ipython3"
  }
 },
 "nbformat": 4,
 "nbformat_minor": 5
}
